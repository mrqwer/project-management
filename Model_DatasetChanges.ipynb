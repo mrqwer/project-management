{
 "cells": [
  {
   "cell_type": "markdown",
   "id": "e44dffdc",
   "metadata": {},
   "source": [
    "Model"
   ]
  },
  {
   "cell_type": "code",
   "execution_count": null,
   "id": "7f50d3eb",
   "metadata": {},
   "outputs": [],
   "source": [
    "import tensorflow as tf\n",
    "from tensorflow.keras.layers import Conv2D, MaxPooling2D, Flatten, Dense\n",
    "from tensorflow.keras.models import Sequential\n",
    "from tensorflow.keras.preprocessing.image import ImageDataGenerator\n",
    "from PIL import Image\n",
    "\n",
    "# Data generators\n",
    "train_datagen = ImageDataGenerator(rescale=1./255)\n",
    "test_datagen = ImageDataGenerator(rescale=1./255)\n",
    "\n",
    "train_generator = train_datagen.flow_from_directory(\n",
    "    'wikiart\\\\train',\n",
    "    target_size=(224, 224),\n",
    "    batch_size=32,\n",
    "    class_mode='categorical',\n",
    "    )\n",
    "\n",
    "val_generator = train_datagen.flow_from_directory(\n",
    "    'wikiart\\\\validation',\n",
    "    target_size=(224, 224),\n",
    "    batch_size=32,\n",
    "    class_mode='categorical',\n",
    "    )\n",
    "\n",
    "test_generator = test_datagen.flow_from_directory(\n",
    "    'wikiart\\\\test',\n",
    "    target_size=(224, 224),\n",
    "    batch_size=32,\n",
    "    class_mode='categorical')\n",
    "\n",
    "# Model\n",
    "model = Sequential()\n",
    "model.add(Conv2D(32, (3, 3), activation='relu', input_shape=(224, 224, 3)))\n",
    "model.add(MaxPooling2D((2, 2)))\n",
    "model.add(Conv2D(64, (3, 3), activation='relu'))\n",
    "model.add(MaxPooling2D((2, 2)))\n",
    "model.add(Conv2D(128, (3, 3), activation='relu'))\n",
    "model.add(MaxPooling2D((2, 2)))\n",
    "model.add(Flatten())\n",
    "model.add(Dense(128, activation='relu'))\n",
    "model.add(Dense(22, activation='softmax'))\n",
    "\n",
    "# Compiling the model\n",
    "model.compile(optimizer='adam', loss='categorical_crossentropy', metrics=['accuracy'])\n",
    "\n",
    "# Training the model\n",
    "history = model.fit(train_generator, epochs=5, validation_data=val_generator)\n",
    "\n",
    "\n"
   ]
  },
  {
   "cell_type": "code",
   "execution_count": 2,
   "id": "07e0055a",
   "metadata": {},
   "outputs": [
    {
     "name": "stderr",
     "output_type": "stream",
     "text": [
      "IOPub data rate exceeded.\n",
      "The notebook server will temporarily stop sending output\n",
      "to the client in order to avoid crashing it.\n",
      "To change this limit, set the config variable\n",
      "`--NotebookApp.iopub_data_rate_limit`.\n",
      "\n",
      "Current values:\n",
      "NotebookApp.iopub_data_rate_limit=1000000.0 (bytes/sec)\n",
      "NotebookApp.rate_limit_window=3.0 (secs)\n",
      "\n"
     ]
    }
   ],
   "source": [
    "\n"
   ]
  },
  {
   "cell_type": "markdown",
   "id": "66f96ab4",
   "metadata": {},
   "source": [
    "Codes for dataset changes"
   ]
  },
  {
   "cell_type": "code",
   "execution_count": 5,
   "id": "b9c9b0d8",
   "metadata": {},
   "outputs": [],
   "source": [
    "#splitting dataset to train test and validation\n",
    "\n",
    "import os\n",
    "import shutil\n",
    "from sklearn.model_selection import train_test_split\n",
    "\n",
    "lista = ['Abstract Expressionism']\n",
    "for i in lista:\n",
    "    # Path to the folder containing the data\n",
    "    data_folder_path = \"wikiart\\\\\"+i\n",
    "\n",
    "    # Path to the folder where the train, test, and validation sets will be created\n",
    "    output_folder_path = \"wikiart\\\\\"+i\n",
    "\n",
    "    # Get the list of files in the data folder\n",
    "    file_list = os.listdir(data_folder_path)\n",
    "\n",
    "    # Split the list of files into train, test, and validation sets\n",
    "    train_files, test_valid_files = train_test_split(file_list, test_size=0.3, random_state=42)\n",
    "    test_files, valid_files = train_test_split(test_valid_files, test_size=0.33, random_state=42)\n",
    "\n",
    "    # Create the train, test, and validation folders\n",
    "    train_folder_path = os.path.join(output_folder_path, \"train\")\n",
    "    os.makedirs(train_folder_path, exist_ok=True)\n",
    "\n",
    "    test_folder_path = os.path.join(output_folder_path, \"test\")\n",
    "    os.makedirs(test_folder_path, exist_ok=True)\n",
    "\n",
    "    valid_folder_path = os.path.join(output_folder_path, \"valid\")\n",
    "    os.makedirs(valid_folder_path, exist_ok=True)\n",
    "\n",
    "    # Move the files to the train, test, and validation folders\n",
    "    for file_name in train_files:\n",
    "        src_path = os.path.join(data_folder_path, file_name)\n",
    "        dst_path = os.path.join(train_folder_path, file_name)\n",
    "        shutil.move(src_path, dst_path)\n",
    "\n",
    "    for file_name in test_files:\n",
    "        src_path = os.path.join(data_folder_path, file_name)\n",
    "        dst_path = os.path.join(test_folder_path, file_name)\n",
    "        shutil.move(src_path, dst_path)\n",
    "\n",
    "    for file_name in valid_files:\n",
    "        src_path = os.path.join(data_folder_path, file_name)\n",
    "        dst_path = os.path.join(valid_folder_path, file_name)\n",
    "        shutil.move(src_path, dst_path)\n"
   ]
  },
  {
   "cell_type": "code",
   "execution_count": 6,
   "id": "63799ed6",
   "metadata": {},
   "outputs": [],
   "source": [
    "import shutil\n",
    "\n",
    "# Path to the folder to be deleted\n",
    "folder_path = \"wikiart/wikiart\"\n",
    "\n",
    "# Delete the folder and all its contents\n",
    "shutil.rmtree(folder_path)\n"
   ]
  },
  {
   "cell_type": "code",
   "execution_count": null,
   "id": "c1460845",
   "metadata": {},
   "outputs": [],
   "source": [
    "#importing the pictures into new styles folder\n",
    "\n",
    "import os\n",
    "import shutil\n",
    "import pandas as pd\n",
    "\n",
    "image_folder_path = \"wikiart\"\n",
    "\n",
    "\n",
    "csv_file_path = \"wikiart_art_pieces.csv\"\n",
    "\n",
    "\n",
    "df = pd.read_csv(csv_file_path)\n",
    "\n",
    "for index, row in df2.iterrows():\n",
    "   \n",
    "    style_name = row[\"style\"]\n",
    "    image_filename = row[\"file_name\"]\n",
    "    \n",
    "\n",
    "    image_path = os.path.join(image_folder_path, image_filename)\n",
    "    \n",
    "    if not os.path.exists(image_path):\n",
    "        continue\n",
    "    \n",
    "    style_folder_path = os.path.join(image_folder_path, style_name)\n",
    "    if not os.path.exists(style_folder_path):\n",
    "        os.mkdir(style_folder_path)\n",
    "    \n",
    "    shutil.copy(image_path, style_folder_path)"
   ]
  }
 ],
 "metadata": {
  "kernelspec": {
   "display_name": "Python 3 (ipykernel)",
   "language": "python",
   "name": "python3"
  },
  "language_info": {
   "codemirror_mode": {
    "name": "ipython",
    "version": 3
   },
   "file_extension": ".py",
   "mimetype": "text/x-python",
   "name": "python",
   "nbconvert_exporter": "python",
   "pygments_lexer": "ipython3",
   "version": "3.10.13"
  }
 },
 "nbformat": 4,
 "nbformat_minor": 5
}
