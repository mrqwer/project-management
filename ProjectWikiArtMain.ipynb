{
 "cells": [
  {
   "cell_type": "code",
   "execution_count": 3,
   "id": "a45c99fe",
   "metadata": {},
   "outputs": [
    {
     "name": "stderr",
     "output_type": "stream",
     "text": [
      "/tmp/ipykernel_899/3319391993.py:1: DeprecationWarning: \n",
      "Pyarrow will become a required dependency of pandas in the next major release of pandas (pandas 3.0),\n",
      "(to allow more performant data types, such as the Arrow string type, and better interoperability with other libraries)\n",
      "but was not found to be installed on your system.\n",
      "If this would cause problems for you,\n",
      "please provide us feedback at https://github.com/pandas-dev/pandas/issues/54466\n",
      "        \n",
      "  import pandas as pd\n"
     ]
    }
   ],
   "source": [
    "import pandas as pd\n",
    "import matplotlib.pyplot as plt\n",
    "import numpy as np\n",
    "import os\n",
    "import shutil"
   ]
  },
  {
   "cell_type": "code",
   "execution_count": 2,
   "id": "5dde90c1",
   "metadata": {},
   "outputs": [],
   "source": [
    "df = pd.read_csv(\"wikiart_art_pieces.csv\")\n",
    "df['index'] = range(0, len(df))"
   ]
  },
  {
   "cell_type": "code",
   "execution_count": 3,
   "id": "d1c3eece",
   "metadata": {},
   "outputs": [
    {
     "data": {
      "text/html": [
       "<div>\n",
       "<style scoped>\n",
       "    .dataframe tbody tr th:only-of-type {\n",
       "        vertical-align: middle;\n",
       "    }\n",
       "\n",
       "    .dataframe tbody tr th {\n",
       "        vertical-align: top;\n",
       "    }\n",
       "\n",
       "    .dataframe thead th {\n",
       "        text-align: right;\n",
       "    }\n",
       "</style>\n",
       "<table border=\"1\" class=\"dataframe\">\n",
       "  <thead>\n",
       "    <tr style=\"text-align: right;\">\n",
       "      <th></th>\n",
       "      <th>artist</th>\n",
       "      <th>style</th>\n",
       "      <th>genre</th>\n",
       "      <th>movement</th>\n",
       "      <th>tags</th>\n",
       "      <th>url</th>\n",
       "      <th>img</th>\n",
       "      <th>file_name</th>\n",
       "      <th>index</th>\n",
       "    </tr>\n",
       "  </thead>\n",
       "  <tbody>\n",
       "    <tr>\n",
       "      <th>0</th>\n",
       "      <td>Byzantine Mosaics</td>\n",
       "      <td>Early Byzantine (c. 330–750)</td>\n",
       "      <td>religious painting</td>\n",
       "      <td>Byzantine Art</td>\n",
       "      <td>['Holyplaces', 'Byzantinearchitecture', 'Arch'...</td>\n",
       "      <td>https://www.wikiart.org/en/byzantine-mosaics/e...</td>\n",
       "      <td>https://uploads2.wikiart.org/00211/images/byza...</td>\n",
       "      <td>0-ravenna-cappella-arcivescovile-166.jpg</td>\n",
       "      <td>0</td>\n",
       "    </tr>\n",
       "    <tr>\n",
       "      <th>1</th>\n",
       "      <td>Byzantine Mosaics</td>\n",
       "      <td>Early Byzantine (c. 330–750)</td>\n",
       "      <td>religious painting</td>\n",
       "      <td>Byzantine Art</td>\n",
       "      <td>['Holyplaces', 'Byzantinearchitecture', 'Arch']</td>\n",
       "      <td>https://www.wikiart.org/en/byzantine-mosaics/e...</td>\n",
       "      <td>https://uploads2.wikiart.org/00211/images/byza...</td>\n",
       "      <td>1-ravenna-cappella-arcivescovile-167.jpg</td>\n",
       "      <td>1</td>\n",
       "    </tr>\n",
       "    <tr>\n",
       "      <th>2</th>\n",
       "      <td>Byzantine Mosaics</td>\n",
       "      <td>Early Byzantine (c. 330–750)</td>\n",
       "      <td>religious painting</td>\n",
       "      <td>Byzantine Art</td>\n",
       "      <td>['Prophet', 'History']</td>\n",
       "      <td>https://www.wikiart.org/en/byzantine-mosaics/e...</td>\n",
       "      <td>https://uploads2.wikiart.org/00211/images/byza...</td>\n",
       "      <td>2-ravenna-cappella-arcivescovile-168.jpg</td>\n",
       "      <td>2</td>\n",
       "    </tr>\n",
       "    <tr>\n",
       "      <th>3</th>\n",
       "      <td>Byzantine Mosaics</td>\n",
       "      <td>Early Byzantine (c. 330–750)</td>\n",
       "      <td>religious painting</td>\n",
       "      <td>Byzantine Art</td>\n",
       "      <td>['Holyplaces', 'Prophet']</td>\n",
       "      <td>https://www.wikiart.org/en/byzantine-mosaics/e...</td>\n",
       "      <td>https://uploads2.wikiart.org/00211/images/byza...</td>\n",
       "      <td>3-ravenna-cappella-arcivescovile-169.jpg</td>\n",
       "      <td>3</td>\n",
       "    </tr>\n",
       "    <tr>\n",
       "      <th>4</th>\n",
       "      <td>Byzantine Mosaics</td>\n",
       "      <td>Early Byzantine (c. 330–750)</td>\n",
       "      <td>religious painting</td>\n",
       "      <td>Byzantine Art</td>\n",
       "      <td>['Holyplaces', 'Prophet']</td>\n",
       "      <td>https://www.wikiart.org/en/byzantine-mosaics/e...</td>\n",
       "      <td>https://uploads2.wikiart.org/00211/images/byza...</td>\n",
       "      <td>4-ravenna-cappella-arcivescovile-171.jpg</td>\n",
       "      <td>4</td>\n",
       "    </tr>\n",
       "  </tbody>\n",
       "</table>\n",
       "</div>"
      ],
      "text/plain": [
       "              artist                         style               genre  \\\n",
       "0  Byzantine Mosaics  Early Byzantine (c. 330–750)  religious painting   \n",
       "1  Byzantine Mosaics  Early Byzantine (c. 330–750)  religious painting   \n",
       "2  Byzantine Mosaics  Early Byzantine (c. 330–750)  religious painting   \n",
       "3  Byzantine Mosaics  Early Byzantine (c. 330–750)  religious painting   \n",
       "4  Byzantine Mosaics  Early Byzantine (c. 330–750)  religious painting   \n",
       "\n",
       "        movement                                               tags  \\\n",
       "0  Byzantine Art  ['Holyplaces', 'Byzantinearchitecture', 'Arch'...   \n",
       "1  Byzantine Art    ['Holyplaces', 'Byzantinearchitecture', 'Arch']   \n",
       "2  Byzantine Art                             ['Prophet', 'History']   \n",
       "3  Byzantine Art                          ['Holyplaces', 'Prophet']   \n",
       "4  Byzantine Art                          ['Holyplaces', 'Prophet']   \n",
       "\n",
       "                                                 url  \\\n",
       "0  https://www.wikiart.org/en/byzantine-mosaics/e...   \n",
       "1  https://www.wikiart.org/en/byzantine-mosaics/e...   \n",
       "2  https://www.wikiart.org/en/byzantine-mosaics/e...   \n",
       "3  https://www.wikiart.org/en/byzantine-mosaics/e...   \n",
       "4  https://www.wikiart.org/en/byzantine-mosaics/e...   \n",
       "\n",
       "                                                 img  \\\n",
       "0  https://uploads2.wikiart.org/00211/images/byza...   \n",
       "1  https://uploads2.wikiart.org/00211/images/byza...   \n",
       "2  https://uploads2.wikiart.org/00211/images/byza...   \n",
       "3  https://uploads2.wikiart.org/00211/images/byza...   \n",
       "4  https://uploads2.wikiart.org/00211/images/byza...   \n",
       "\n",
       "                                  file_name  index  \n",
       "0  0-ravenna-cappella-arcivescovile-166.jpg      0  \n",
       "1  1-ravenna-cappella-arcivescovile-167.jpg      1  \n",
       "2  2-ravenna-cappella-arcivescovile-168.jpg      2  \n",
       "3  3-ravenna-cappella-arcivescovile-169.jpg      3  \n",
       "4  4-ravenna-cappella-arcivescovile-171.jpg      4  "
      ]
     },
     "execution_count": 3,
     "metadata": {},
     "output_type": "execute_result"
    }
   ],
   "source": [
    "df.head()"
   ]
  },
  {
   "cell_type": "code",
   "execution_count": 4,
   "id": "80092b6b",
   "metadata": {},
   "outputs": [
    {
     "name": "stdout",
     "output_type": "stream",
     "text": [
      "<class 'pandas.core.frame.DataFrame'>\n",
      "RangeIndex: 176436 entries, 0 to 176435\n",
      "Data columns (total 9 columns):\n",
      " #   Column     Non-Null Count   Dtype \n",
      "---  ------     --------------   ----- \n",
      " 0   artist     176436 non-null  object\n",
      " 1   style      176436 non-null  object\n",
      " 2   genre      176436 non-null  object\n",
      " 3   movement   176436 non-null  object\n",
      " 4   tags       127710 non-null  object\n",
      " 5   url        176436 non-null  object\n",
      " 6   img        176436 non-null  object\n",
      " 7   file_name  176436 non-null  object\n",
      " 8   index      176436 non-null  int64 \n",
      "dtypes: int64(1), object(8)\n",
      "memory usage: 12.1+ MB\n"
     ]
    }
   ],
   "source": [
    "df.info()"
   ]
  },
  {
   "cell_type": "code",
   "execution_count": 5,
   "id": "96e5f767",
   "metadata": {},
   "outputs": [
    {
     "data": {
      "text/html": [
       "<div>\n",
       "<style scoped>\n",
       "    .dataframe tbody tr th:only-of-type {\n",
       "        vertical-align: middle;\n",
       "    }\n",
       "\n",
       "    .dataframe tbody tr th {\n",
       "        vertical-align: top;\n",
       "    }\n",
       "\n",
       "    .dataframe thead th {\n",
       "        text-align: right;\n",
       "    }\n",
       "</style>\n",
       "<table border=\"1\" class=\"dataframe\">\n",
       "  <thead>\n",
       "    <tr style=\"text-align: right;\">\n",
       "      <th></th>\n",
       "      <th>index</th>\n",
       "    </tr>\n",
       "  </thead>\n",
       "  <tbody>\n",
       "    <tr>\n",
       "      <th>count</th>\n",
       "      <td>176436.000000</td>\n",
       "    </tr>\n",
       "    <tr>\n",
       "      <th>mean</th>\n",
       "      <td>88217.500000</td>\n",
       "    </tr>\n",
       "    <tr>\n",
       "      <th>std</th>\n",
       "      <td>50932.830385</td>\n",
       "    </tr>\n",
       "    <tr>\n",
       "      <th>min</th>\n",
       "      <td>0.000000</td>\n",
       "    </tr>\n",
       "    <tr>\n",
       "      <th>25%</th>\n",
       "      <td>44108.750000</td>\n",
       "    </tr>\n",
       "    <tr>\n",
       "      <th>50%</th>\n",
       "      <td>88217.500000</td>\n",
       "    </tr>\n",
       "    <tr>\n",
       "      <th>75%</th>\n",
       "      <td>132326.250000</td>\n",
       "    </tr>\n",
       "    <tr>\n",
       "      <th>max</th>\n",
       "      <td>176435.000000</td>\n",
       "    </tr>\n",
       "  </tbody>\n",
       "</table>\n",
       "</div>"
      ],
      "text/plain": [
       "               index\n",
       "count  176436.000000\n",
       "mean    88217.500000\n",
       "std     50932.830385\n",
       "min         0.000000\n",
       "25%     44108.750000\n",
       "50%     88217.500000\n",
       "75%    132326.250000\n",
       "max    176435.000000"
      ]
     },
     "execution_count": 5,
     "metadata": {},
     "output_type": "execute_result"
    }
   ],
   "source": [
    "df.describe()"
   ]
  },
  {
   "cell_type": "code",
   "execution_count": 6,
   "id": "f4579d88",
   "metadata": {},
   "outputs": [
    {
     "data": {
      "text/plain": [
       "count            176436\n",
       "unique              193\n",
       "top       Impressionism\n",
       "freq              16083\n",
       "Name: style, dtype: object"
      ]
     },
     "execution_count": 6,
     "metadata": {},
     "output_type": "execute_result"
    }
   ],
   "source": [
    "df['style'].describe()\n"
   ]
  },
  {
   "cell_type": "code",
   "execution_count": 7,
   "id": "340bb73f",
   "metadata": {},
   "outputs": [
    {
     "name": "stdout",
     "output_type": "stream",
     "text": [
      "Impressionism                        16083\n",
      "Realism                              15764\n",
      "Romanticism                          15010\n",
      "Expressionism                        11455\n",
      "Post-Impressionism                    8147\n",
      "                                     ...  \n",
      "Pskov school of icon painting            1\n",
      "Shin-hanga                               1\n",
      "New media art                            1\n",
      "Stroganov school of icon painting        1\n",
      "Early Christian                          1\n",
      "Name: style, Length: 193, dtype: int64\n"
     ]
    }
   ],
   "source": [
    "print(df['style'].value_counts())"
   ]
  },
  {
   "cell_type": "code",
   "execution_count": 32,
   "id": "548f16b6",
   "metadata": {},
   "outputs": [
    {
     "name": "stdout",
     "output_type": "stream",
     "text": [
      "['Impressionism', 'Realism', 'Romanticism', 'Expressionism', 'Post-Impressionism', 'Baroque', 'Art Nouveau (Modern)', 'Unknown', 'Surrealism', 'Symbolism', 'Neoclassicism', 'Abstract Expressionism', 'Rococo', 'Northern Renaissance', 'Cubism', 'Pop Art', 'Academicism', 'Minimalism', 'Conceptual Art', 'Art Informel', 'Naïve Art (Primitivism)', 'Early Renaissance', 'Abstract Art', 'Magic Realism', 'Contemporary Realism', 'High Renaissance', 'Neo-Expressionism', 'Orientalism', 'Color Field Painting', 'Op Art', 'Lyrical Abstraction', 'Fauvism', 'Contemporary', 'Neo-Impressionism', 'Social Realism', 'Naturalism', 'Neo-Romanticism', 'Kitsch', 'Post-Minimalism', 'Socialist Realism', 'Art Deco', 'Ink and wash painting', 'Tachisme', 'Neo-Dada', 'Hard Edge Painting', 'Regionalism', 'Pictorialism', 'Neo-Pop Art', 'Constructivism', 'Transavantgarde', 'Street art', 'Mannerism (Late Renaissance)', 'Tenebrism', 'Outsider art', 'Proto Renaissance', 'Feminist Art', 'Art Brut', 'Futurism', 'Biedermeier', 'Light and Space', 'Luminism', 'Tonalism', 'New European Painting', 'Dada', 'Fantastic Realism', 'Precisionism', 'Romanesque', 'Native Art', 'Divisionism', 'Concretism', 'Post-Painterly Abstraction', 'Figurative Expressionism', 'International Gothic', 'Classicism', 'Orphism', 'Kinetic Art', 'Synthetic Cubism', 'Neo-Figurative Art', 'Postcolonial art', 'Hyper-Realism', 'Neo-baroque', 'Metaphysical art', 'Muralism', 'Cubo-Futurism', 'Classical Realism', 'Japonism', 'Neoplasticism', 'Pointillism', 'Cloisonnism', 'Spatialism', 'Purism', 'Digital Art', 'Ukiyo-e', 'Nouveau Réalisme', 'Modernismo', 'Documentary photography', 'Environmental (Land) Art', 'Suprematism', 'Late Byzantine/Palaeologan Renaissance (c. 1261–1453)', 'Photorealism', 'New Realism', 'Costumbrismo', 'Intimism', 'Confessional Art', 'Analytical Cubism', 'Early Byzantine (c. 330–750)', 'Action painting', 'Neo-Rococo', 'Street Photography', 'Performance Art', 'P&D (Pattern and Decoration)', 'Neo-Concretism', 'Analytical\\xa0Realism', 'Lowbrow Art', 'Neo-Minimalism', 'Mozarabic', 'Transautomatism', 'Indian Space painting', 'Stuckism', 'Macedonian Renaissance (867–1056)', 'Coptic art', 'Synthetism', 'Modernism', 'American Realism', 'Moscow school of icon painting', 'Fantasy Art', 'Mechanistic Cubism', 'Sumi-e (Suiboku-ga)', 'Automatic Painting', 'Viking art', 'Byzantine', 'Maximalism', 'Junk Art', 'Mosan art', 'Queer art', 'Neo-Suprematism', 'Poster Art Realism', 'Lettrism', 'Komnenian style (1081-1185)', 'Verism', 'Existential Art', 'New Ink Painting', 'Gongbi', 'Gothic', 'Joseon Dynasty', 'Cyber Art', 'Middle Byzantine (c. 850–1204)', 'Superflat', 'Novgorod school of icon painting', 'Latin Empire of Constantinople (1204-1261)', 'Cartographic Art', 'Renaissance', 'Medieval Art', 'Fiber art', 'Neo-Orthodoxism', 'Cubo-Expressionism', 'Galicia-Volyn school', 'Tubism', 'Zen', 'Neo-Byzantine', 'Mail Art', 'Hyper-Mannerism (Anachronism)', 'Synchromism', 'Neo-Geo', 'Rayonism', 'Art Singulier', 'Kyiv school of icon painting', 'Crusader workshop', 'Yaroslavl school of icon painting', 'Yoruba', 'Sots Art', 'Cretan school of icon painting', 'Excessivism', 'Ero guro', 'New Medievialism', 'Severe Style', 'Miserablism', 'Site-specific art', 'Safavid Period', 'New Casualism', 'Vologda school of icon painting', 'Spectralism', 'Geometric', 'Vladimir school of icon painting', 'Chernihiv school of icon painting', 'Sky Art', 'Macedonian school of icon painting', 'Graffiti Art', 'Pskov school of icon painting', 'Shin-hanga', 'New media art', 'Stroganov school of icon painting', 'Early Christian']\n",
      "[16083, 15764, 15010, 11455, 8147, 7496, 7382, 7039, 6988, 5224, 4360, 3909, 3537, 3089, 2530, 2517, 2474, 2077, 1818, 1797, 1754, 1729, 1729, 1614, 1599, 1565, 1559, 1337, 1318, 1155, 1142, 1106, 992, 984, 835, 807, 805, 731, 721, 715, 714, 627, 570, 568, 566, 555, 524, 523, 504, 487, 487, 473, 471, 451, 442, 430, 395, 389, 387, 386, 384, 382, 378, 376, 370, 353, 348, 329, 328, 323, 314, 313, 277, 257, 256, 246, 243, 243, 241, 237, 225, 218, 211, 204, 199, 193, 178, 177, 175, 168, 162, 161, 156, 155, 150, 147, 145, 130, 124, 124, 122, 119, 112, 112, 109, 107, 105, 101, 97, 91, 91, 91, 90, 87, 85, 85, 82, 80, 79, 77, 77, 76, 72, 72, 69, 69, 69, 68, 68, 67, 60, 60, 59, 57, 57, 54, 53, 51, 44, 40, 36, 36, 35, 33, 33, 32, 31, 30, 29, 29, 29, 27, 25, 25, 21, 21, 21, 20, 19, 19, 18, 17, 16, 16, 15, 14, 14, 13, 13, 13, 13, 11, 11, 11, 11, 9, 9, 8, 7, 6, 5, 5, 5, 4, 4, 3, 2, 1, 1, 1, 1, 1, 1]\n",
      "Number of styles: 193\n"
     ]
    }
   ],
   "source": [
    "style_list = list(df['style'].value_counts().index)\n",
    "print(style_list)\n",
    "style_num = list(df['style'].value_counts())\n",
    "print(style_num)\n",
    "print('Number of styles:', len(style_list))"
   ]
  },
  {
   "cell_type": "markdown",
   "id": "cce53d0f",
   "metadata": {},
   "source": [
    "Taking only 22 styles, because dataset it too big. There were 196 styles overall."
   ]
  },
  {
   "cell_type": "code",
   "execution_count": 33,
   "id": "c135511a",
   "metadata": {},
   "outputs": [
    {
     "name": "stdout",
     "output_type": "stream",
     "text": [
      "['Impressionism' 'Realism' 'Romanticism' 'Expressionism'\n",
      " 'Post-Impressionism' 'Baroque' 'Art Nouveau (Modern)' 'Unknown'\n",
      " 'Surrealism' 'Symbolism' 'Neoclassicism' 'Abstract Expressionism'\n",
      " 'Rococo' 'Northern Renaissance' 'Cubism' 'Pop Art' 'Academicism'\n",
      " 'Minimalism' 'Conceptual Art' 'Art Informel' 'Naïve Art (Primitivism)'\n",
      " 'Early Renaissance']\n",
      "[16083 15764 15010 11455  8147  7496  7382  7039  6988  5224  4360  3909\n",
      "  3537  3089  2530  2517  2474  2077  1818  1797  1754  1729]\n",
      "Number of styles: 22\n"
     ]
    }
   ],
   "source": [
    "splits = np.array_split(style_list, 9)\n",
    "splits_num = np.array_split(style_num, 9)\n",
    "style_l1 = splits[0]\n",
    "style_n1 = splits_num[0]\n",
    "print(style_l1)\n",
    "print(style_n1)\n",
    "print('Number of styles:',len(style_l1))"
   ]
  },
  {
   "cell_type": "code",
   "execution_count": 55,
   "id": "7ecf9024",
   "metadata": {},
   "outputs": [
    {
     "data": {
      "text/plain": [
       "(array([    0.,  2000.,  4000.,  6000.,  8000., 10000., 12000., 14000.,\n",
       "        16000., 18000.]),\n",
       " [Text(0, 0, ''),\n",
       "  Text(0, 0, ''),\n",
       "  Text(0, 0, ''),\n",
       "  Text(0, 0, ''),\n",
       "  Text(0, 0, ''),\n",
       "  Text(0, 0, ''),\n",
       "  Text(0, 0, ''),\n",
       "  Text(0, 0, ''),\n",
       "  Text(0, 0, ''),\n",
       "  Text(0, 0, '')])"
      ]
     },
     "execution_count": 55,
     "metadata": {},
     "output_type": "execute_result"
    },
    {
     "data": {
      "image/png": "[encoded data removed]",
      "text/plain": [
       "<Figure size 640x480 with 1 Axes>"
      ]
     },
     "metadata": {},
     "output_type": "display_data"
    }
   ],
   "source": [
    "plt.barh(style_l1,style_n1)\n",
    "plt.xticks()"
   ]
  },
  {
   "cell_type": "markdown",
   "id": "5ef4d088",
   "metadata": {},
   "source": [
    "Filtered the dataset by having only 22 styles"
   ]
  },
  {
   "cell_type": "code",
   "execution_count": 34,
   "id": "3b6617d0",
   "metadata": {},
   "outputs": [],
   "source": [
    "df2 = df[df['style'].isin(style_l1)]"
   ]
  },
  {
   "cell_type": "markdown",
   "id": "c915b118",
   "metadata": {},
   "source": [
    "Creating a list of styles from df2"
   ]
  },
  {
   "cell_type": "code",
   "execution_count": 15,
   "id": "4dd7d78f",
   "metadata": {},
   "outputs": [
    {
     "name": "stdout",
     "output_type": "stream",
     "text": [
      "22\n"
     ]
    }
   ],
   "source": [
    "lista = list(set(df2[\"style\"]))\n",
    "print(len(lista))\n"
   ]
  },
  {
   "cell_type": "markdown",
   "id": "0f57ae29",
   "metadata": {},
   "source": [
    "MODEL"
   ]
  },
  {
   "cell_type": "code",
   "execution_count": 22,
   "id": "dde4ac15",
   "metadata": {},
   "outputs": [],
   "source": [
    "import tensorflow as tf\n",
    "from tensorflow.keras.preprocessing.image import ImageDataGenerator"
   ]
  },
  {
   "cell_type": "markdown",
   "id": "4c20f0af",
   "metadata": {},
   "source": [
    "Loading the model that was already trained before"
   ]
  },
  {
   "cell_type": "code",
   "execution_count": 23,
   "id": "2fbcf419",
   "metadata": {},
   "outputs": [],
   "source": [
    "model = tf.keras.models.load_model('modelW1.h5')"
   ]
  },
  {
   "cell_type": "code",
   "execution_count": 24,
   "id": "a7a40e47",
   "metadata": {},
   "outputs": [
    {
     "name": "stdout",
     "output_type": "stream",
     "text": [
      "Found 26492 images belonging to 22 classes.\n"
     ]
    }
   ],
   "source": [
    "test_datagen = ImageDataGenerator(rescale=1./255)\n",
    "test_generator = test_datagen.flow_from_directory(\n",
    "    'wikiart\\\\test',\n",
    "    target_size=(224, 224),\n",
    "    batch_size=32,\n",
    "    class_mode='categorical')"
   ]
  },
  {
   "cell_type": "code",
   "execution_count": 25,
   "id": "242804f5",
   "metadata": {},
   "outputs": [
    {
     "name": "stdout",
     "output_type": "stream",
     "text": [
      "828/828 [==============================] - 219s 264ms/step - loss: 4.0308 - accuracy: 0.2576\n",
      "Test accuracy: 0.25762495398521423\n"
     ]
    }
   ],
   "source": [
    "# Evaluate the model\n",
    "from PIL import ImageFile\n",
    "ImageFile.LOAD_TRUNCATED_IMAGES = True\n",
    "test_loss, test_acc = model.evaluate(test_generator)\n",
    "print('Test accuracy:', test_acc)"
   ]
  },
  {
   "cell_type": "markdown",
   "id": "5d0b5b7f",
   "metadata": {},
   "source": [
    "Testing on Images"
   ]
  },
  {
   "cell_type": "code",
   "execution_count": 56,
   "id": "a5a4426e",
   "metadata": {},
   "outputs": [
    {
     "name": "stdout",
     "output_type": "stream",
     "text": [
      "1/1 [==============================] - 0s 37ms/step\n",
      "Impressionism: 0.06%\n",
      "Realism: 0.00%\n",
      "Romanticism: 0.01%\n",
      "Expressionism: 0.46%\n",
      "Post-Impressionism: 0.00%\n",
      "Baroque: 0.00%\n",
      "Art Nouveau (Modern): 0.00%\n",
      "Unknown: 0.00%\n",
      "Surrealism: 79.52%\n",
      "Symbolism: 8.77%\n",
      "Neoclassicism: 0.00%\n",
      "Abstract Expressionism: 0.00%\n",
      "Rococo: 0.02%\n",
      "Northern Renaissance: 0.03%\n",
      "Cubism: 0.05%\n",
      "Pop Art: 9.98%\n",
      "Academicism: 0.02%\n",
      "Minimalism: 0.00%\n",
      "Conceptual Art: 0.00%\n",
      "Art Informel: 0.15%\n",
      "Naïve Art (Primitivism): 0.09%\n",
      "Early Renaissance: 0.83%\n"
     ]
    }
   ],
   "source": [
    "import tensorflow as tf\n",
    "import numpy as np\n",
    "from PIL import Image\n",
    "\n",
    "\n",
    "\n",
    "# Load and preprocess the input image\n",
    "image = Image.open('Clocks.png')\n",
    "image = image.resize((224, 224))\n",
    "image = np.array(image) / 255.0\n",
    "image = np.expand_dims(image, axis=0)\n",
    "\n",
    "# Make predictions using the model\n",
    "predictions = model.predict(image)[0]\n",
    "\n",
    "# Display the predicted class names and confidence scores\n",
    "for i in range(len(predictions)):\n",
    "    class_name = style_l1[i]\n",
    "    confidence = predictions[i] * 100\n",
    "    print(f\"{class_name}: {confidence:.2f}%\")"
   ]
  },
  {
   "cell_type": "code",
   "execution_count": 40,
   "id": "6b8d2943",
   "metadata": {},
   "outputs": [
    {
     "name": "stdout",
     "output_type": "stream",
     "text": [
      "1/1 [==============================] - 0s 28ms/step\n",
      "Impressionism: 2.28%\n",
      "Realism: 0.00%\n",
      "Romanticism: 0.87%\n",
      "Expressionism: 0.08%\n",
      "Post-Impressionism: 0.00%\n",
      "Baroque: 1.02%\n",
      "Art Nouveau (Modern): 0.00%\n",
      "Unknown: 0.00%\n",
      "Surrealism: 0.15%\n",
      "Symbolism: 0.08%\n",
      "Neoclassicism: 85.54%\n",
      "Abstract Expressionism: 0.00%\n",
      "Rococo: 0.02%\n",
      "Northern Renaissance: 0.00%\n",
      "Cubism: 0.15%\n",
      "Pop Art: 0.08%\n",
      "Academicism: 5.34%\n",
      "Minimalism: 0.00%\n",
      "Conceptual Art: 4.01%\n",
      "Art Informel: 0.07%\n",
      "Naïve Art (Primitivism): 0.21%\n",
      "Early Renaissance: 0.10%\n"
     ]
    }
   ],
   "source": [
    "import tensorflow as tf\n",
    "import numpy as np\n",
    "from PIL import Image\n",
    "\n",
    "\n",
    "\n",
    "# Load and preprocess the input image\n",
    "image = Image.open('DALL·E 2023-02-21 00.05.33 - minimalism.png')\n",
    "image = image.resize((224, 224))\n",
    "image = np.array(image) / 255.0\n",
    "image = np.expand_dims(image, axis=0)\n",
    "\n",
    "# Make predictions using the model\n",
    "predictions = model.predict(image)[0]\n",
    "\n",
    "# Display the predicted class names and confidence scores\n",
    "for i in range(len(predictions)):\n",
    "    class_name = style_l1[i]\n",
    "    confidence = predictions[i] * 100\n",
    "    print(f\"{class_name}: {confidence:.2f}%\")"
   ]
  },
  {
   "cell_type": "code",
   "execution_count": 57,
   "id": "69b7f229",
   "metadata": {},
   "outputs": [
    {
     "name": "stdout",
     "output_type": "stream",
     "text": [
      "1/1 [==============================] - 0s 39ms/step\n",
      "Impressionism: 0.01%\n",
      "Realism: 0.00%\n",
      "Romanticism: 0.00%\n",
      "Expressionism: 0.01%\n",
      "Post-Impressionism: 0.00%\n",
      "Baroque: 0.00%\n",
      "Art Nouveau (Modern): 0.00%\n",
      "Unknown: 0.59%\n",
      "Surrealism: 77.40%\n",
      "Symbolism: 0.00%\n",
      "Neoclassicism: 0.00%\n",
      "Abstract Expressionism: 17.59%\n",
      "Rococo: 0.00%\n",
      "Northern Renaissance: 0.00%\n",
      "Cubism: 0.01%\n",
      "Pop Art: 0.09%\n",
      "Academicism: 0.00%\n",
      "Minimalism: 0.00%\n",
      "Conceptual Art: 0.00%\n",
      "Art Informel: 4.13%\n",
      "Naïve Art (Primitivism): 0.00%\n",
      "Early Renaissance: 0.18%\n"
     ]
    }
   ],
   "source": [
    "import tensorflow as tf\n",
    "import numpy as np\n",
    "from PIL import Image\n",
    "\n",
    "\n",
    "\n",
    "# Load and preprocess the input image\n",
    "image = Image.open('DALL·E 2023-02-21 00.07.14 - mask surrealism.png')\n",
    "image = image.resize((224, 224))\n",
    "image = np.array(image) / 255.0\n",
    "image = np.expand_dims(image, axis=0)\n",
    "\n",
    "# Make predictions using the model\n",
    "predictions = model.predict(image)[0]\n",
    "\n",
    "# Display the predicted class names and confidence scores\n",
    "for i in range(len(predictions)):\n",
    "    class_name = style_l1[i]\n",
    "    confidence = predictions[i] * 100\n",
    "    print(f\"{class_name}: {confidence:.2f}%\")"
   ]
  },
  {
   "cell_type": "code",
   "execution_count": 51,
   "id": "73717896",
   "metadata": {},
   "outputs": [
    {
     "name": "stdout",
     "output_type": "stream",
     "text": [
      "1/1 [==============================] - 0s 26ms/step\n",
      "Impressionism: 0.00%\n",
      "Realism: 75.06%\n",
      "Romanticism: 0.00%\n",
      "Expressionism: 0.00%\n",
      "Post-Impressionism: 0.02%\n",
      "Baroque: 0.00%\n",
      "Art Nouveau (Modern): 0.06%\n",
      "Unknown: 0.02%\n",
      "Surrealism: 19.71%\n",
      "Symbolism: 0.05%\n",
      "Neoclassicism: 0.00%\n",
      "Abstract Expressionism: 0.00%\n",
      "Rococo: 0.00%\n",
      "Northern Renaissance: 0.00%\n",
      "Cubism: 0.00%\n",
      "Pop Art: 0.00%\n",
      "Academicism: 5.05%\n",
      "Minimalism: 0.00%\n",
      "Conceptual Art: 0.01%\n",
      "Art Informel: 0.00%\n",
      "Naïve Art (Primitivism): 0.01%\n",
      "Early Renaissance: 0.01%\n"
     ]
    }
   ],
   "source": [
    "import tensorflow as tf\n",
    "import numpy as np\n",
    "from PIL import Image\n",
    "\n",
    "\n",
    "\n",
    "# Load and preprocess the input image\n",
    "image = Image.open('4834.Courbet_2C002D00_The_2D00_Desperate_2D00_Man.jpg.optimal.jpg')\n",
    "image = image.resize((224, 224))\n",
    "image = np.array(image) / 255.0\n",
    "image = np.expand_dims(image, axis=0)\n",
    "\n",
    "# Make predictions using the model\n",
    "predictions = model.predict(image)[0]\n",
    "\n",
    "# Display the predicted class names and confidence scores\n",
    "for i in range(len(predictions)):\n",
    "    class_name = style_l1[i]\n",
    "    confidence = predictions[i] * 100\n",
    "    print(f\"{class_name}: {confidence:.2f}%\")"
   ]
  },
  {
   "cell_type": "code",
   "execution_count": 58,
   "id": "1e0859c1",
   "metadata": {},
   "outputs": [
    {
     "name": "stdout",
     "output_type": "stream",
     "text": [
      "1/1 [==============================] - 0s 32ms/step\n",
      "Impressionism: 0.05%\n",
      "Realism: 0.00%\n",
      "Romanticism: 0.00%\n",
      "Expressionism: 0.00%\n",
      "Post-Impressionism: 0.00%\n",
      "Baroque: 0.01%\n",
      "Art Nouveau (Modern): 0.56%\n",
      "Unknown: 0.00%\n",
      "Surrealism: 0.62%\n",
      "Symbolism: 0.00%\n",
      "Neoclassicism: 0.00%\n",
      "Abstract Expressionism: 0.00%\n",
      "Rococo: 0.00%\n",
      "Northern Renaissance: 1.58%\n",
      "Cubism: 0.00%\n",
      "Pop Art: 0.00%\n",
      "Academicism: 0.00%\n",
      "Minimalism: 0.00%\n",
      "Conceptual Art: 0.02%\n",
      "Art Informel: 5.20%\n",
      "Naïve Art (Primitivism): 0.00%\n",
      "Early Renaissance: 91.96%\n"
     ]
    }
   ],
   "source": [
    "import tensorflow as tf\n",
    "import numpy as np\n",
    "from PIL import Image\n",
    "\n",
    "\n",
    "\n",
    "# Load and preprocess the input image\n",
    "image = Image.open('Realism - Grant_Wood_-_American_Gothic_-_Google_Art_Project.jpg')\n",
    "image = image.resize((224, 224))\n",
    "image = np.array(image) / 255.0\n",
    "image = np.expand_dims(image, axis=0)\n",
    "\n",
    "# Make predictions using the model\n",
    "predictions = model.predict(image)[0]\n",
    "\n",
    "# Display the predicted class names and confidence scores\n",
    "for i in range(len(predictions)):\n",
    "    class_name = style_l1[i]\n",
    "    confidence = predictions[i] * 100\n",
    "    print(f\"{class_name}: {confidence:.2f}%\")"
   ]
  },
  {
   "cell_type": "code",
   "execution_count": null,
   "id": "67c9c0c2",
   "metadata": {},
   "outputs": [],
   "source": []
  },
  {
   "cell_type": "code",
   "execution_count": null,
   "id": "a968ba58",
   "metadata": {},
   "outputs": [],
   "source": []
  },
  {
   "cell_type": "code",
   "execution_count": null,
   "id": "7d5a1d27",
   "metadata": {},
   "outputs": [],
   "source": []
  },
  {
   "cell_type": "code",
   "execution_count": null,
   "id": "adc3f066",
   "metadata": {},
   "outputs": [],
   "source": []
  },
  {
   "cell_type": "code",
   "execution_count": null,
   "id": "d113de8e",
   "metadata": {},
   "outputs": [],
   "source": []
  }
 ],
 "metadata": {
  "kernelspec": {
   "display_name": "Python 3 (ipykernel)",
   "language": "python",
   "name": "python3"
  },
  "language_info": {
   "codemirror_mode": {
    "name": "ipython",
    "version": 3
   },
   "file_extension": ".py",
   "mimetype": "text/x-python",
   "name": "python",
   "nbconvert_exporter": "python",
   "pygments_lexer": "ipython3",
   "version": "3.10.13"
  }
 },
 "nbformat": 4,
 "nbformat_minor": 5
}
